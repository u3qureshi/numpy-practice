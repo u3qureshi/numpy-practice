{
 "cells": [
  {
   "cell_type": "markdown",
   "metadata": {},
   "source": [
    "# <span style=\"color:Blue\">Assignment-2 of COSC4427: Data Science with Python</span>"
   ]
  },
  {
   "cell_type": "markdown",
   "metadata": {},
   "source": [
    "### <span style=\"color:Red\">Write your python functions/modules in the given cells below for Problems 1 to 8. You can use the previously developed functions/results/values from this notebook for the later problems. You are not allowed use NumPy, pandas, Scipy, statistics or any packages/libraries/modules for Problems 1 to 8 except Python's built in modules (e.g., random, math).</span>"
   ]
  },
  {
   "cell_type": "markdown",
   "metadata": {},
   "source": [
    "# <span style=\"color:Green\">P1: Generate a list named `num_list` with 50 random distinct integers in between 1 and 500 $(1<num\\_list<500)$. Use Python's built-in random module.</span>"
   ]
  },
  {
   "cell_type": "code",
   "execution_count": 21,
   "metadata": {},
   "outputs": [
    {
     "name": "stdout",
     "output_type": "stream",
     "text": [
      "[107, 303, 86, 193, 482, 255, 425, 220, 21, 117, 194, 476, 290, 428, 87, 278, 190, 450, 357, 374, 452, 281, 302, 286, 59, 313, 222, 447, 412, 378, 485, 53, 310, 305, 86, 472, 72, 309, 261, 492, 261, 252, 241, 281, 229, 257, 243, 411, 94, 19]\n"
     ]
    }
   ],
   "source": [
    "#Codes of P1 here\n",
    "import random\n",
    "num_list = []\n",
    "for i in range(0,50):\n",
    "\n",
    "    n = random.randint(1,500)\n",
    "    num_list.append(n)\n",
    "print(num_list)"
   ]
  },
  {
   "cell_type": "markdown",
   "metadata": {},
   "source": [
    "# <span style=\"color:Green\">P2: Find and print the largest integer from `num_list`.</span>"
   ]
  },
  {
   "cell_type": "code",
   "execution_count": 22,
   "metadata": {},
   "outputs": [
    {
     "name": "stdout",
     "output_type": "stream",
     "text": [
      "492\n"
     ]
    }
   ],
   "source": [
    "#Codes of P2 here\n",
    "max_number = max(num_list)\n",
    "print(max_number)"
   ]
  },
  {
   "cell_type": "markdown",
   "metadata": {},
   "source": [
    "# <span style=\"color:Green\">P3: Find and print the smallest integer from `num_list`.</span>"
   ]
  },
  {
   "cell_type": "code",
   "execution_count": 23,
   "metadata": {},
   "outputs": [
    {
     "name": "stdout",
     "output_type": "stream",
     "text": [
      "19\n"
     ]
    }
   ],
   "source": [
    "#Codes of P3 here\n",
    "min_number = min(num_list)\n",
    "print(min_number)"
   ]
  },
  {
   "cell_type": "markdown",
   "metadata": {},
   "source": [
    "# <span style=\"color:Green\">P4: Find and print the second largest integer from `num_list`.</span>"
   ]
  },
  {
   "cell_type": "code",
   "execution_count": 24,
   "metadata": {},
   "outputs": [
    {
     "name": "stdout",
     "output_type": "stream",
     "text": [
      "485\n"
     ]
    }
   ],
   "source": [
    "#Codes of P4 here\n",
    "#create copy of the list\n",
    "num_list_copy = num_list\n",
    "#creating a set to remove duplicate then parsing it back to a list\n",
    "num_list_copy = list(set(num_list_copy))\n",
    "#remove the max number in the list/set\n",
    "num_list_copy.remove(max(num_list_copy))\n",
    "second_largest_num = max(num_list_copy)\n",
    "print(second_largest_num)"
   ]
  },
  {
   "cell_type": "markdown",
   "metadata": {},
   "source": [
    "# <span style=\"color:Green\">P5: Find and print the second smallest integer from `num_list`.</span>"
   ]
  },
  {
   "cell_type": "code",
   "execution_count": 26,
   "metadata": {},
   "outputs": [
    {
     "name": "stdout",
     "output_type": "stream",
     "text": [
      "21\n"
     ]
    }
   ],
   "source": [
    "#Codes of P5 here\n",
    "#Same logic as the code above but replace with min()\n",
    "num_list_copy_2 = num_list\n",
    "num_list_copy_2 = list(set(num_list_copy_2))\n",
    "#remove the min number in the list/set\n",
    "num_list_copy_2.remove(min(num_list_copy_2))\n",
    "second_smallest_num = min(num_list_copy_2)\n",
    "print(second_smallest_num)"
   ]
  },
  {
   "cell_type": "markdown",
   "metadata": {},
   "source": [
    "# <span style=\"color:Green\">P6: Find and print the sum and the mean of `num_list`.</span>"
   ]
  },
  {
   "cell_type": "code",
   "execution_count": 31,
   "metadata": {},
   "outputs": [
    {
     "name": "stdout",
     "output_type": "stream",
     "text": [
      "Sum = 13618\n",
      "Mean = 272.36\n"
     ]
    }
   ],
   "source": [
    "#Codes of P6 here\n",
    "#Sum of the list\n",
    "num_list_sum = sum(num_list)\n",
    "print(f'Sum = {num_list_sum}')\n",
    "#Mean of the list\n",
    "num_list_mean = num_list_sum/len(num_list)  \n",
    "print(f'Mean = {num_list_mean}')"
   ]
  },
  {
   "cell_type": "markdown",
   "metadata": {},
   "source": [
    "# <span style=\"color:Green\">P7: Calculate and print the variance (var) and standard deviation (std) of `num_list`. Hint: $std=\\sqrt{\\frac{1}{N}\\sum\\limits_{i=1}^N(x_i-\\mu)^2}$</span>"
   ]
  },
  {
   "cell_type": "code",
   "execution_count": 37,
   "metadata": {},
   "outputs": [
    {
     "name": "stdout",
     "output_type": "stream",
     "text": [
      "Variance = 18272.630400000002\n",
      "Standard deviation = 135.1762937796417\n"
     ]
    }
   ],
   "source": [
    "#Codes of P7 here\n",
    "#Calculate variance\n",
    "variance = sum((x-num_list_mean)**2 for x in num_list) / len(num_list)\n",
    "print(f'Variance = {variance}')\n",
    "\n",
    "#Calculate std\n",
    "std = variance**0.5\n",
    "print(f\"Standard deviation = {std}\")\n"
   ]
  },
  {
   "cell_type": "markdown",
   "metadata": {},
   "source": [
    "# <span style=\"color:Green\">P8: Find the median of `num_list`.</span>"
   ]
  },
  {
   "cell_type": "code",
   "execution_count": 43,
   "metadata": {},
   "outputs": [
    {
     "name": "stdout",
     "output_type": "stream",
     "text": [
      "279.5\n"
     ]
    }
   ],
   "source": [
    "#Codes of P8 here\n",
    "# Sort the list and return middle to average of two middles\n",
    "sortedLst = sorted(num_list)\n",
    "list_index = (len(num_list) - 1) // 2\n",
    "median = 0\n",
    "if not (len(num_list) % 2 == 0):\n",
    "    median = sortedLst[list_index]\n",
    "else:\n",
    "    median = (sortedLst[list_index] + sortedLst[list_index + 1])/2.0\n",
    "\n",
    "print(median)"
   ]
  },
  {
   "cell_type": "markdown",
   "metadata": {},
   "source": [
    "# <span style=\"color:Green\">P9: Repeat Problem 1 using NumPy only.</span>"
   ]
  },
  {
   "cell_type": "code",
   "execution_count": 53,
   "metadata": {},
   "outputs": [
    {
     "name": "stdout",
     "output_type": "stream",
     "text": [
      "[408 137 182 409 207 196 174  55 162 461 203 144 331 246  75 452 269 401\n",
      " 160 376 244  10 363 203 211 414 126 383 158 482   4 265  23 400 328 394\n",
      " 398 186 360  23 279 290  33  84 242 286 333 474 275 226]\n"
     ]
    }
   ],
   "source": [
    "#Codes of P9 here\n",
    "import numpy as np\n",
    "numpy_array = np.random.randint(500, size=50)\n",
    "print(numpy_array)"
   ]
  },
  {
   "cell_type": "markdown",
   "metadata": {},
   "source": [
    "# <span style=\"color:Green\">P10: Repeat Problem 2 using NumPy only.</span>"
   ]
  },
  {
   "cell_type": "code",
   "execution_count": 54,
   "metadata": {},
   "outputs": [
    {
     "name": "stdout",
     "output_type": "stream",
     "text": [
      "482\n"
     ]
    }
   ],
   "source": [
    "#Codes of P10 here\n",
    "max_int = np.max(numpy_array)\n",
    "print(max_int)"
   ]
  },
  {
   "cell_type": "markdown",
   "metadata": {},
   "source": [
    "# <span style=\"color:Green\">P11: Repeat Problem 3 using NumPy only.</span>"
   ]
  },
  {
   "cell_type": "code",
   "execution_count": 55,
   "metadata": {},
   "outputs": [
    {
     "name": "stdout",
     "output_type": "stream",
     "text": [
      "4\n"
     ]
    }
   ],
   "source": [
    "#Codes of P11 here\n",
    "min_int = np.min(numpy_array)\n",
    "print(min_int)"
   ]
  },
  {
   "cell_type": "markdown",
   "metadata": {},
   "source": [
    "# <span style=\"color:Green\">P12: Repeat Problem 4 using NumPy only.</span>"
   ]
  },
  {
   "cell_type": "code",
   "execution_count": 59,
   "metadata": {},
   "outputs": [
    {
     "name": "stdout",
     "output_type": "stream",
     "text": [
      "474\n"
     ]
    }
   ],
   "source": [
    "#Codes of P12 here\n",
    "# remove duplicates\n",
    "sorted_numpy_array = np.unique(np.sort(numpy_array))\n",
    "# The second last value in this array would be the second largest\n",
    "second_largest_int = sorted_numpy_array[sorted_numpy_array.size-2]\n",
    "print(second_largest_int)"
   ]
  },
  {
   "cell_type": "markdown",
   "metadata": {},
   "source": [
    "# <span style=\"color:Green\">P13: Repeat Problem 5 using NumPy only.</span>"
   ]
  },
  {
   "cell_type": "code",
   "execution_count": 62,
   "metadata": {},
   "outputs": [
    {
     "name": "stdout",
     "output_type": "stream",
     "text": [
      "10\n"
     ]
    }
   ],
   "source": [
    "#Codes of P13 here\n",
    "# Same logic as code above\n",
    "second_smallest_int = sorted_numpy_array[1]\n",
    "print(second_smallest_int)"
   ]
  },
  {
   "cell_type": "markdown",
   "metadata": {},
   "source": [
    "# <span style=\"color:Green\">P14: Repeat Problem 6 using NumPy only.</span>"
   ]
  },
  {
   "cell_type": "code",
   "execution_count": 66,
   "metadata": {},
   "outputs": [
    {
     "name": "stdout",
     "output_type": "stream",
     "text": [
      "12545\n",
      "250.9\n"
     ]
    }
   ],
   "source": [
    "#Codes of P14 here\n",
    "#Sum\n",
    "numpy_sum = np.sum(numpy_array)\n",
    "print(numpy_sum)\n",
    "#Mean\n",
    "numpy_mean = np.mean(numpy_array)\n",
    "print(numpy_mean)"
   ]
  },
  {
   "cell_type": "markdown",
   "metadata": {},
   "source": [
    "# <span style=\"color:Green\">P15: Repeat Problem 7 using NumPy only.</span>"
   ]
  },
  {
   "cell_type": "code",
   "execution_count": 69,
   "metadata": {},
   "outputs": [
    {
     "name": "stdout",
     "output_type": "stream",
     "text": [
      "17826.65\n",
      "133.51647838375607\n"
     ]
    }
   ],
   "source": [
    "#Codes of P15 here\n",
    "variance_numpy = np.var(numpy_array)\n",
    "print(variance_numpy)\n",
    "\n",
    "std_numpy = np.std(numpy_array)\n",
    "print(std_numpy)"
   ]
  },
  {
   "cell_type": "markdown",
   "metadata": {},
   "source": [
    "# <span style=\"color:Green\">P16: Repeat Problem 8 using NumPy only.</span>"
   ]
  },
  {
   "cell_type": "code",
   "execution_count": 72,
   "metadata": {},
   "outputs": [
    {
     "name": "stdout",
     "output_type": "stream",
     "text": [
      "245.0\n"
     ]
    }
   ],
   "source": [
    "#Codes of P16 here\n",
    "median_numpy = np.median(numpy_array)\n",
    "print(median_numpy)"
   ]
  },
  {
   "cell_type": "markdown",
   "metadata": {},
   "source": [
    "### <span style=\"color:Red\">Please note that the submitted work will be considered as your own work and you confirm that you have not received any unauthorized assistance in preparing for or doing this assignment/examination. You confirm knowing that a mark of 0 may be assigned for your entire work.</span>"
   ]
  },
  {
   "cell_type": "markdown",
   "metadata": {},
   "source": [
    "### <span style=\"color:Red\">Submit your completed Jupyter notebook (.ipynb) to Moodle. You can submit multiple times but the grade will be posted based on your latest attempt.</span>"
   ]
  }
 ],
 "metadata": {
  "kernelspec": {
   "display_name": "Python 3",
   "language": "python",
   "name": "python3"
  },
  "language_info": {
   "codemirror_mode": {
    "name": "ipython",
    "version": 3
   },
   "file_extension": ".py",
   "mimetype": "text/x-python",
   "name": "python",
   "nbconvert_exporter": "python",
   "pygments_lexer": "ipython3",
   "version": "3.7.6"
  }
 },
 "nbformat": 4,
 "nbformat_minor": 4
}
